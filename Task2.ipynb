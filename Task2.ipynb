{
 "cells": [
  {
   "cell_type": "code",
   "execution_count": 3,
   "id": "4615e188-57b4-4784-8413-827061f5ffde",
   "metadata": {},
   "outputs": [
    {
     "name": "stdout",
     "output_type": "stream",
     "text": [
      "Defaulting to user installation because normal site-packages is not writeable\n",
      "Requirement already satisfied: bs4 in c:\\users\\rtag4\\appdata\\roaming\\python\\python311\\site-packages (0.0.2)\n",
      "Requirement already satisfied: beautifulsoup4 in c:\\programdata\\anaconda3\\lib\\site-packages (from bs4) (4.12.2)\n",
      "Requirement already satisfied: soupsieve>1.2 in c:\\programdata\\anaconda3\\lib\\site-packages (from beautifulsoup4->bs4) (2.5)\n",
      "Note: you may need to restart the kernel to use updated packages.\n"
     ]
    }
   ],
   "source": [
    "pip install bs4\n"
   ]
  },
  {
   "cell_type": "code",
   "execution_count": 7,
   "id": "7e73fa3e-774f-4e44-90ff-533affde3846",
   "metadata": {},
   "outputs": [],
   "source": [
    "import requests \n",
    "from bs4 import BeautifulSoup\n",
    "import time\n",
    "\n",
    "mainUrl = 'https://www.4icu.org/de/universities/'\n",
    "response = requests.get(mainUrl)\n",
    "response.encoding = 'utf-8'\n",
    "soup = BeautifulSoup(response.text,'lxml')\n",
    "\n"
   ]
  },
  {
   "cell_type": "code",
   "execution_count": 8,
   "id": "6aefca4a-a6da-44b1-803c-1bde350e814d",
   "metadata": {},
   "outputs": [
    {
     "name": "stdout",
     "output_type": "stream",
     "text": [
      "state: Baden-Wurttemberg, URL: https://www.4icu.org/de/baden-wurttemberg/\n",
      "state: Bavaria, URL: https://www.4icu.org/de/bavaria/\n",
      "state: Berlin, URL: https://www.4icu.org/de/berlin/\n",
      "state: Brandenburg, URL: https://www.4icu.org/de/brandenburg/\n",
      "state: Bremen, URL: https://www.4icu.org/de/bremen/\n",
      "state: Hamburg, URL: https://www.4icu.org/de/hamburg/\n",
      "state: Hesse, URL: https://www.4icu.org/de/hesse/\n",
      "state: Lower Saxony, URL: https://www.4icu.org/de/lower-saxony/\n",
      "state: Mecklenburg-Vorpommern, URL: https://www.4icu.org/de/mecklenburg-vorpommern/\n",
      "state: North Rhine-Westphalia, URL: https://www.4icu.org/de/north-rhine-westphalia/\n",
      "state: Rhineland-Palatinate, URL: https://www.4icu.org/de/rhineland-palatinate/\n",
      "state: Saarland, URL: https://www.4icu.org/de/saarland/\n",
      "state: Saxony, URL: https://www.4icu.org/de/saxony/\n",
      "state: Saxony-Anhalt, URL: https://www.4icu.org/de/saxony-anhalt/\n",
      "state: Schleswig-Holstein, URL: https://www.4icu.org/de/schleswig-holstein/\n",
      "state: Thuringia, URL: https://www.4icu.org/de/thuringia/\n",
      "Total 16 states\n"
     ]
    }
   ],
   "source": [
    "tables = soup.find('table', class_ = 'table')\n",
    "stateLinks = []\n",
    "baseUrl = 'https://www.4icu.org'\n",
    "\n",
    "for aTag in tables.find_all('a', href=True):\n",
    "    stateName = aTag.text.strip()\n",
    "    stateUrl = baseUrl + aTag['href']\n",
    "    stateLinks.append({'state name':stateName,'state url':stateUrl})\n",
    "\n",
    "for state in stateLinks:\n",
    "    print(f\"state: {state['state name']}, URL: {state['state url']}\")\n",
    "\n",
    "print(f\"Total {len(stateLinks)} states\")"
   ]
  },
  {
   "cell_type": "code",
   "execution_count": 9,
   "id": "cec29fdd-2014-4d55-a412-4194634a5ca8",
   "metadata": {},
   "outputs": [],
   "source": [
    "stateUniversities = []\n",
    "for state in stateLinks:\n",
    "    url = state['state url']\n",
    "    response = requests.get(url)\n",
    "    soup = BeautifulSoup(response.text, 'lxml')\n",
    "    uni_table = soup.find('tbody')\n",
    "    universityLinks = []\n",
    "    \n",
    "    for aTag in uni_table.find_all('a', href=True):\n",
    "        if aTag['href'] == '/about/add.htm':\n",
    "            continue\n",
    "        uniUrl = baseUrl + aTag['href']\n",
    "        universityLinks.append(uniUrl)\n",
    "    stateUniversities.append({'state':state['state name'], 'universityLinks':universityLinks})\n",
    "\n",
    "\n",
    "    \n",
    "        \n",
    "    \n",
    "\n"
   ]
  },
  {
   "cell_type": "code",
   "execution_count": 10,
   "id": "3f2c40e0-80f8-49ec-aeed-21c6d4bd5854",
   "metadata": {
    "scrolled": true
   },
   "outputs": [],
   "source": [
    "import json\n",
    "universities = []\n",
    "for university in stateUniversities:\n",
    "    stateName = university['state']\n",
    "    for uniUrl in university['universityLinks']:\n",
    "        response = requests.get(uniUrl)\n",
    "        response.encoding = 'utf-8'\n",
    "        soup = BeautifulSoup(response.text, 'lxml')\n",
    "        logo = soup.find('img', attrs={\"itemprop\":\"logo\"})\n",
    "        uniName = soup.find('h1', attrs={\"itemprop\":\"name\"})\n",
    "        cityName = soup.find('span', attrs={\"itemprop\":\"addressLocality\"})\n",
    "        type = soup.find('p' ,class_ = 'lead').find('strong')\n",
    "        foundedYear = soup.find('table', class_='table borderless').find('span', attrs={\"itemprop\":\"foundingDate\"})\n",
    "        socialLinks = soup.find('div', attrs={\"id\":\"social-media\"}).find_all('a',attrs={\"itemprop\":\"sameAs\"})\n",
    "        uniLink = soup.find('a', attrs={\"itemprop\":\"url\"})\n",
    "        def determine_media_type(url):\n",
    "            if 'facebook.com' in url:\n",
    "                return 'facebook'\n",
    "            elif 'instagram.com' in url:\n",
    "                return 'instagram'\n",
    "            elif 'twitter.com' in url:\n",
    "                return 'twitter'\n",
    "            elif 'linkedin.com' in url:\n",
    "                return 'linkedin'\n",
    "            elif 'youtube.com' in url:\n",
    "                return 'youtube'\n",
    "            else:\n",
    "                return 'unknown'\n",
    "        socialUrls = []\n",
    "        for url in socialLinks:\n",
    "            socialUrls.append({'media': determine_media_type(url['href']),'link':url['href']})\n",
    "        social_media_map = {\n",
    "        'facebook': '',\n",
    "        'twitter': '',\n",
    "        'instagram': '',\n",
    "        'linkedin': '',\n",
    "        'youtube': ''\n",
    "        }\n",
    "        for social_url in socialUrls:\n",
    "            url = social_url['link']\n",
    "            if 'facebook.com' in url:\n",
    "                social_media_map['facebook'] = url\n",
    "            elif 'twitter.com' in url:\n",
    "                social_media_map['twitter'] = url\n",
    "            elif 'instagram.com' in url:\n",
    "                social_media_map['instagram'] = url\n",
    "            elif 'linkedin.com' in url:\n",
    "                social_media_map['linkedin'] = url\n",
    "            elif 'youtube.com' in url:\n",
    "                social_media_map['youtube'] = url\n",
    "        entry = {\n",
    "            \"name\":uniName.text.strip(),\n",
    "            \"location\":{\n",
    "                \"country\":\"Germany\",\n",
    "                \"state\":stateName,\n",
    "                \"city\":cityName.text.strip()\n",
    "            },\n",
    "            \"logoSrc\":logo['src'],\n",
    "            \"type\":type.text.strip(),\n",
    "            \"establishedYear\":foundedYear.text.strip(),\n",
    "            \"contact\": {\n",
    "     \"facebook\": social_media_map['facebook'],\n",
    "    \"twitter\": social_media_map['twitter'],\n",
    "    \"instagram\": social_media_map['instagram'],\n",
    "    \"officialWebsite\": str(uniLink['href']),\n",
    "    \"linkedin\": social_media_map['linkedin'],\n",
    "    \"youtube\": social_media_map['youtube']\n",
    "            }\n",
    "        }\n",
    "        universities.append(json.dumps(entry, ensure_ascii=False))\n",
    "\n",
    "\n",
    "        "
   ]
  },
  {
   "cell_type": "code",
   "execution_count": 11,
   "id": "0b19571e-8b33-4da1-be72-059825b63f7f",
   "metadata": {},
   "outputs": [],
   "source": [
    "with open('universities.json', 'w', encoding='utf-8') as f:\n",
    "    json.dump(universities, f, ensure_ascii=False, indent=4)"
   ]
  },
  {
   "cell_type": "code",
   "execution_count": null,
   "id": "d6210ca5-2cfb-42b4-a23d-905850df4842",
   "metadata": {},
   "outputs": [],
   "source": []
  },
  {
   "cell_type": "code",
   "execution_count": null,
   "id": "51aeeeda-0d4e-48be-a2da-2a956f3791d3",
   "metadata": {},
   "outputs": [],
   "source": []
  },
  {
   "cell_type": "code",
   "execution_count": null,
   "id": "c19d7069-eaa7-4151-9a83-cfae3f6bf099",
   "metadata": {},
   "outputs": [],
   "source": []
  },
  {
   "cell_type": "code",
   "execution_count": null,
   "id": "2d1ba180-639f-4448-b73b-0f5326f52423",
   "metadata": {},
   "outputs": [],
   "source": []
  },
  {
   "cell_type": "code",
   "execution_count": null,
   "id": "55c4a25f-719e-4eed-b4f5-67d4736649ab",
   "metadata": {},
   "outputs": [],
   "source": []
  },
  {
   "cell_type": "code",
   "execution_count": null,
   "id": "4e90b824-c134-4745-821d-984631d41309",
   "metadata": {},
   "outputs": [],
   "source": []
  },
  {
   "cell_type": "code",
   "execution_count": null,
   "id": "050c5ee4-6a6a-4667-8959-adef6160914c",
   "metadata": {},
   "outputs": [],
   "source": []
  },
  {
   "cell_type": "code",
   "execution_count": null,
   "id": "87fa73b4-abd4-495b-b72f-788ce7f2715b",
   "metadata": {},
   "outputs": [],
   "source": []
  },
  {
   "cell_type": "code",
   "execution_count": null,
   "id": "1eadd7d6-c618-4c5f-afbe-6df32122994a",
   "metadata": {},
   "outputs": [],
   "source": []
  },
  {
   "cell_type": "code",
   "execution_count": null,
   "id": "ecbe89d4-5028-483c-a21f-645a696e457f",
   "metadata": {},
   "outputs": [],
   "source": []
  }
 ],
 "metadata": {
  "kernelspec": {
   "display_name": "Python 3 (ipykernel)",
   "language": "python",
   "name": "python3"
  },
  "language_info": {
   "codemirror_mode": {
    "name": "ipython",
    "version": 3
   },
   "file_extension": ".py",
   "mimetype": "text/x-python",
   "name": "python",
   "nbconvert_exporter": "python",
   "pygments_lexer": "ipython3",
   "version": "3.11.7"
  }
 },
 "nbformat": 4,
 "nbformat_minor": 5
}
